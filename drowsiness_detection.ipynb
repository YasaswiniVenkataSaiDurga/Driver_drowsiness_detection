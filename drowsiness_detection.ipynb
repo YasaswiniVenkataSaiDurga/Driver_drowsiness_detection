{
 "cells": [
  {
   "cell_type": "code",
   "execution_count": 5,
   "id": "7b00b28f",
   "metadata": {},
   "outputs": [],
   "source": [
    "import cv2\n",
    "import dlib\n",
    "import numpy as np\n",
    "import winsound\n",
    "from scipy.spatial import distance"
   ]
  },
  {
   "cell_type": "code",
   "execution_count": 6,
   "id": "014e12d4",
   "metadata": {},
   "outputs": [],
   "source": [
    "def eye_aspect_ratio(eye):\n",
    "    A = distance.euclidean(eye[1], eye[5])  # vertical\n",
    "    B = distance.euclidean(eye[2], eye[4])  # vertical\n",
    "    C = distance.euclidean(eye[0], eye[3])  # horizontal\n",
    "    ear = (A + B) / (2.0 * C)\n",
    "    return ear"
   ]
  },
  {
   "cell_type": "code",
   "execution_count": 7,
   "id": "580a5472",
   "metadata": {},
   "outputs": [],
   "source": [
    "detector = dlib.get_frontal_face_detector()\n",
    "predictor = dlib.shape_predictor(\"shape_predictor_68_face_landmarks.dat\")\n",
    "\n",
    "(lStart, lEnd) = (42, 48)  # right eye\n",
    "(rStart, rEnd) = (36, 42)  # left eye"
   ]
  },
  {
   "cell_type": "code",
   "execution_count": 8,
   "id": "e09d6c12",
   "metadata": {},
   "outputs": [
    {
     "name": "stdout",
     "output_type": "stream",
     "text": [
      "Drowsiness detected!\n",
      "EAR Value: 0.17285034168930827\n",
      "Drowsiness detected!\n",
      "EAR Value: 0.18305794458395536\n",
      "Drowsiness detected!\n",
      "EAR Value: 0.18380223048358624\n",
      "Drowsiness detected!\n",
      "EAR Value: 0.16788072768718704\n",
      "Drowsiness detected!\n",
      "EAR Value: 0.17086001917838115\n",
      "Drowsiness detected!\n",
      "EAR Value: 0.17271351290748432\n",
      "Drowsiness detected!\n",
      "EAR Value: 0.19787978871071862\n"
     ]
    }
   ],
   "source": [
    "cap = cv2.VideoCapture(0)\n",
    "cv2.namedWindow(\"Frame\", cv2.WINDOW_NORMAL)\n",
    "\n",
    "DROWSY_EAR_THRESHOLD = 0.25\n",
    "DROWSY_FRAMES = 20\n",
    "counter = 0\n",
    "\n",
    "while True:\n",
    "    ret, frame = cap.read()\n",
    "    gray = cv2.cvtColor(frame, cv2.COLOR_BGR2GRAY)\n",
    "\n",
    "    faces = detector(gray, 0)\n",
    "    for face in faces:\n",
    "        shape = predictor(gray, face)\n",
    "        shape_np = np.zeros((68, 2), dtype=\"int\")\n",
    "\n",
    "        for i in range(0, 68):\n",
    "            shape_np[i] = (shape.part(i).x, shape.part(i).y)\n",
    "\n",
    "        leftEye = shape_np[lStart:lEnd]\n",
    "        rightEye = shape_np[rStart:rEnd]\n",
    "        leftEAR = eye_aspect_ratio(leftEye)\n",
    "        rightEAR = eye_aspect_ratio(rightEye)\n",
    "\n",
    "        ear = (leftEAR + rightEAR) / 2.0\n",
    "\n",
    "        if ear < DROWSY_EAR_THRESHOLD:\n",
    "            counter += 1\n",
    "            if counter >= DROWSY_FRAMES:\n",
    "                print(\"Drowsiness detected!\")\n",
    "                print(\"EAR Value:\", ear)\n",
    "                cv2.putText(frame, \"DROWSINESS ALERT!\", (50, 100),\n",
    "                            cv2.FONT_HERSHEY_SIMPLEX, 1.2, (0, 0, 255), 3)\n",
    "    \n",
    "    # Windows sound alert\n",
    "                winsound.Beep(1000, 1000)  # frequency, duration (in ms)\n",
    "        else:\n",
    "            counter = 0\n",
    "\n",
    "        for (x, y) in np.concatenate((leftEye, rightEye), axis=0):\n",
    "            cv2.circle(frame, (x, y), 2, (255, 255, 255), -1)\n",
    "\n",
    "    cv2.imshow(\"Frame\", frame)\n",
    "    key = cv2.waitKey(1) & 0xFF\n",
    "    if key == 27:  # ESC to exit\n",
    "        break\n",
    "\n",
    "cap.release()\n",
    "cv2.destroyAllWindows()"
   ]
  }
 ],
 "metadata": {
  "kernelspec": {
   "display_name": "Python 3",
   "language": "python",
   "name": "python3"
  },
  "language_info": {
   "codemirror_mode": {
    "name": "ipython",
    "version": 3
   },
   "file_extension": ".py",
   "mimetype": "text/x-python",
   "name": "python",
   "nbconvert_exporter": "python",
   "pygments_lexer": "ipython3",
   "version": "3.13.0"
  }
 },
 "nbformat": 4,
 "nbformat_minor": 5
}
